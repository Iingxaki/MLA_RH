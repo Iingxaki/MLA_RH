{
  "nbformat": 4,
  "nbformat_minor": 0,
  "metadata": {
    "colab": {
      "provenance": [],
      "include_colab_link": true
    },
    "kernelspec": {
      "name": "python3",
      "display_name": "Python 3"
    },
    "language_info": {
      "name": "python"
    }
  },
  "cells": [
    {
      "cell_type": "markdown",
      "metadata": {
        "id": "view-in-github",
        "colab_type": "text"
      },
      "source": [
        "<a href=\"https://colab.research.google.com/github/Iingxaki/MLA_RH/blob/main/ML4_RH.ipynb\" target=\"_parent\"><img src=\"https://colab.research.google.com/assets/colab-badge.svg\" alt=\"Open In Colab\"/></a>"
      ]
    },
    {
      "cell_type": "markdown",
      "source": [
        "\n",
        "# Machine Learning Assignment #  \n",
        "**Radjamin Hukom**  "
      ],
      "metadata": {
        "id": "QRwWxyo15l1_"
      }
    },
    {
      "cell_type": "markdown",
      "source": [
        "## Standard Imports"
      ],
      "metadata": {
        "id": "Dm3plw0g3ZvL"
      }
    },
    {
      "cell_type": "code",
      "execution_count": 1,
      "metadata": {
        "id": "hZQOlQVuibFq"
      },
      "outputs": [],
      "source": [
        "import pandas as pd\n",
        "import numpy as np\n",
        "import matplotlib.pyplot as plt\n",
        "import seaborn as sns\n",
        "%matplotlib inline"
      ]
    },
    {
      "cell_type": "code",
      "source": [
        "from google.colab import drive\n",
        "drive.mount('/content/gdrive')"
      ],
      "metadata": {
        "colab": {
          "base_uri": "https://localhost:8080/"
        },
        "id": "f6C2m_xqin0Y",
        "outputId": "68949162-2657-407e-e536-0271ce3bf259"
      },
      "execution_count": 3,
      "outputs": [
        {
          "output_type": "stream",
          "name": "stdout",
          "text": [
            "Mounted at /content/gdrive\n"
          ]
        }
      ]
    },
    {
      "cell_type": "markdown",
      "source": [
        "## Imports for specific models\n",
        "In this section, you will import the models from SKLearn that you will use this in this notebook."
      ],
      "metadata": {
        "id": "UM7SiWOlBzPg"
      }
    },
    {
      "cell_type": "code",
      "source": [
        "#example - you will replace this with the models you a  re actually using.\n",
        "from sklearn.neighbors import KNeighborsClassifier"
      ],
      "metadata": {
        "id": "jL7htbaoB6Ek"
      },
      "execution_count": 4,
      "outputs": []
    },
    {
      "cell_type": "markdown",
      "source": [
        "## Imports for Splitting Data and Building Pipeline\n"
      ],
      "metadata": {
        "id": "-5Akp3i4CPFj"
      }
    },
    {
      "cell_type": "code",
      "source": [
        "from sklearn.model_selection import train_test_split\n",
        "\n",
        "from sklearn.pipeline import Pipeline\n",
        "from sklearn import set_config\n",
        "set_config(display='diagram')\n",
        "\n",
        "from sklearn.compose import ColumnTransformer\n",
        "from sklearn.preprocessing import MinMaxScaler\n",
        "from sklearn.preprocessing import OneHotEncoder\n",
        "from sklearn.tree import DecisionTreeClassifier"
      ],
      "metadata": {
        "id": "RPkp1dlKqLOT"
      },
      "execution_count": 15,
      "outputs": []
    },
    {
      "cell_type": "markdown",
      "source": [
        "# Imports for Performance Measures"
      ],
      "metadata": {
        "id": "JW9kgAGwpww3"
      }
    },
    {
      "cell_type": "code",
      "source": [
        "from sklearn.metrics import confusion_matrix\n",
        "from sklearn.metrics import precision_score, recall_score, f1_score\n",
        "from sklearn.metrics import roc_curve\n",
        "from sklearn.metrics import roc_auc_score\n",
        "from sklearn.metrics import r2_score\n",
        "from sklearn.metrics import mean_squared_error\n",
        "from sklearn.metrics import precision_recall_curve\n",
        "from sklearn.metrics import auc"
      ],
      "metadata": {
        "id": "N4WwSQlNpw7c"
      },
      "execution_count": 6,
      "outputs": []
    },
    {
      "cell_type": "markdown",
      "source": [
        "## Confusion Matrix Function\n",
        "This function is for creating a graphical version of the confusion matrix.\n",
        "\n"
      ],
      "metadata": {
        "id": "pWcDpHz0qF_J"
      }
    },
    {
      "cell_type": "code",
      "source": [
        "def plot_cm(y_test, y_pred):\n",
        "    cm = confusion_matrix(y_test,y_pred)\n",
        "    fig = plt.figure(figsize=(10,10))\n",
        "    heatmap = sns.heatmap(cm, annot=True, fmt='.2f', cmap='RdYlGn')\n",
        "    plt.ylabel('True label')\n",
        "    plt.xlabel('Predicted Label')"
      ],
      "metadata": {
        "id": "UyWroVXvp2ZD"
      },
      "execution_count": 7,
      "outputs": []
    },
    {
      "cell_type": "markdown",
      "source": [
        "# ROC_Curve Function\n",
        "This function is for plotting the roc_curve"
      ],
      "metadata": {
        "id": "fYHTxcJYqGcP"
      }
    },
    {
      "cell_type": "code",
      "source": [
        "def plot_roc_curve(fpr,tpr):\n",
        "  plt.plot(fpr, tpr, linewidth=2)\n",
        "  plt.plot([0,1],[0,1], 'k--')\n",
        "  plt.xlim([0.0, 1.0])\n",
        "  plt.ylim([0.0, 1.0])"
      ],
      "metadata": {
        "id": "DSTtrdx0qFAU"
      },
      "execution_count": 8,
      "outputs": []
    },
    {
      "cell_type": "markdown",
      "source": [
        "## Problem 1"
      ],
      "metadata": {
        "id": "9zzzkwxa3ncK"
      }
    },
    {
      "cell_type": "markdown",
      "source": [
        "### Reading the Data"
      ],
      "metadata": {
        "id": "PbtwGYpbDQyy"
      }
    },
    {
      "cell_type": "code",
      "source": [
        "# prompt: Load the banknote_authentication.csv into a data frame named df.\n",
        "\n",
        "df = pd.read_csv('/content/gdrive/MyDrive/Colab Notebooks/CS430/ML4_RH/banknote_authentication.csv')\n",
        "df.head()"
      ],
      "metadata": {
        "id": "0W5zf-aRfXwA",
        "colab": {
          "base_uri": "https://localhost:8080/",
          "height": 206
        },
        "outputId": "b9e7feee-ba52-4c54-88e6-e1cc96db6de7"
      },
      "execution_count": 9,
      "outputs": [
        {
          "output_type": "execute_result",
          "data": {
            "text/plain": [
              "   variance  skewness  curtosis  entropy  forgery\n",
              "0   3.62160    8.6661   -2.8073 -0.44699        0\n",
              "1   4.54590    8.1674   -2.4586 -1.46210        0\n",
              "2   3.86600   -2.6383    1.9242  0.10645        0\n",
              "3   3.45660    9.5228   -4.0112 -3.59440        0\n",
              "4   0.32924   -4.4552    4.5718 -0.98880        0"
            ],
            "text/html": [
              "\n",
              "  <div id=\"df-4a87489d-b5d3-4260-8b86-3c0ab8b714db\" class=\"colab-df-container\">\n",
              "    <div>\n",
              "<style scoped>\n",
              "    .dataframe tbody tr th:only-of-type {\n",
              "        vertical-align: middle;\n",
              "    }\n",
              "\n",
              "    .dataframe tbody tr th {\n",
              "        vertical-align: top;\n",
              "    }\n",
              "\n",
              "    .dataframe thead th {\n",
              "        text-align: right;\n",
              "    }\n",
              "</style>\n",
              "<table border=\"1\" class=\"dataframe\">\n",
              "  <thead>\n",
              "    <tr style=\"text-align: right;\">\n",
              "      <th></th>\n",
              "      <th>variance</th>\n",
              "      <th>skewness</th>\n",
              "      <th>curtosis</th>\n",
              "      <th>entropy</th>\n",
              "      <th>forgery</th>\n",
              "    </tr>\n",
              "  </thead>\n",
              "  <tbody>\n",
              "    <tr>\n",
              "      <th>0</th>\n",
              "      <td>3.62160</td>\n",
              "      <td>8.6661</td>\n",
              "      <td>-2.8073</td>\n",
              "      <td>-0.44699</td>\n",
              "      <td>0</td>\n",
              "    </tr>\n",
              "    <tr>\n",
              "      <th>1</th>\n",
              "      <td>4.54590</td>\n",
              "      <td>8.1674</td>\n",
              "      <td>-2.4586</td>\n",
              "      <td>-1.46210</td>\n",
              "      <td>0</td>\n",
              "    </tr>\n",
              "    <tr>\n",
              "      <th>2</th>\n",
              "      <td>3.86600</td>\n",
              "      <td>-2.6383</td>\n",
              "      <td>1.9242</td>\n",
              "      <td>0.10645</td>\n",
              "      <td>0</td>\n",
              "    </tr>\n",
              "    <tr>\n",
              "      <th>3</th>\n",
              "      <td>3.45660</td>\n",
              "      <td>9.5228</td>\n",
              "      <td>-4.0112</td>\n",
              "      <td>-3.59440</td>\n",
              "      <td>0</td>\n",
              "    </tr>\n",
              "    <tr>\n",
              "      <th>4</th>\n",
              "      <td>0.32924</td>\n",
              "      <td>-4.4552</td>\n",
              "      <td>4.5718</td>\n",
              "      <td>-0.98880</td>\n",
              "      <td>0</td>\n",
              "    </tr>\n",
              "  </tbody>\n",
              "</table>\n",
              "</div>\n",
              "    <div class=\"colab-df-buttons\">\n",
              "\n",
              "  <div class=\"colab-df-container\">\n",
              "    <button class=\"colab-df-convert\" onclick=\"convertToInteractive('df-4a87489d-b5d3-4260-8b86-3c0ab8b714db')\"\n",
              "            title=\"Convert this dataframe to an interactive table.\"\n",
              "            style=\"display:none;\">\n",
              "\n",
              "  <svg xmlns=\"http://www.w3.org/2000/svg\" height=\"24px\" viewBox=\"0 -960 960 960\">\n",
              "    <path d=\"M120-120v-720h720v720H120Zm60-500h600v-160H180v160Zm220 220h160v-160H400v160Zm0 220h160v-160H400v160ZM180-400h160v-160H180v160Zm440 0h160v-160H620v160ZM180-180h160v-160H180v160Zm440 0h160v-160H620v160Z\"/>\n",
              "  </svg>\n",
              "    </button>\n",
              "\n",
              "  <style>\n",
              "    .colab-df-container {\n",
              "      display:flex;\n",
              "      gap: 12px;\n",
              "    }\n",
              "\n",
              "    .colab-df-convert {\n",
              "      background-color: #E8F0FE;\n",
              "      border: none;\n",
              "      border-radius: 50%;\n",
              "      cursor: pointer;\n",
              "      display: none;\n",
              "      fill: #1967D2;\n",
              "      height: 32px;\n",
              "      padding: 0 0 0 0;\n",
              "      width: 32px;\n",
              "    }\n",
              "\n",
              "    .colab-df-convert:hover {\n",
              "      background-color: #E2EBFA;\n",
              "      box-shadow: 0px 1px 2px rgba(60, 64, 67, 0.3), 0px 1px 3px 1px rgba(60, 64, 67, 0.15);\n",
              "      fill: #174EA6;\n",
              "    }\n",
              "\n",
              "    .colab-df-buttons div {\n",
              "      margin-bottom: 4px;\n",
              "    }\n",
              "\n",
              "    [theme=dark] .colab-df-convert {\n",
              "      background-color: #3B4455;\n",
              "      fill: #D2E3FC;\n",
              "    }\n",
              "\n",
              "    [theme=dark] .colab-df-convert:hover {\n",
              "      background-color: #434B5C;\n",
              "      box-shadow: 0px 1px 3px 1px rgba(0, 0, 0, 0.15);\n",
              "      filter: drop-shadow(0px 1px 2px rgba(0, 0, 0, 0.3));\n",
              "      fill: #FFFFFF;\n",
              "    }\n",
              "  </style>\n",
              "\n",
              "    <script>\n",
              "      const buttonEl =\n",
              "        document.querySelector('#df-4a87489d-b5d3-4260-8b86-3c0ab8b714db button.colab-df-convert');\n",
              "      buttonEl.style.display =\n",
              "        google.colab.kernel.accessAllowed ? 'block' : 'none';\n",
              "\n",
              "      async function convertToInteractive(key) {\n",
              "        const element = document.querySelector('#df-4a87489d-b5d3-4260-8b86-3c0ab8b714db');\n",
              "        const dataTable =\n",
              "          await google.colab.kernel.invokeFunction('convertToInteractive',\n",
              "                                                    [key], {});\n",
              "        if (!dataTable) return;\n",
              "\n",
              "        const docLinkHtml = 'Like what you see? Visit the ' +\n",
              "          '<a target=\"_blank\" href=https://colab.research.google.com/notebooks/data_table.ipynb>data table notebook</a>'\n",
              "          + ' to learn more about interactive tables.';\n",
              "        element.innerHTML = '';\n",
              "        dataTable['output_type'] = 'display_data';\n",
              "        await google.colab.output.renderOutput(dataTable, element);\n",
              "        const docLink = document.createElement('div');\n",
              "        docLink.innerHTML = docLinkHtml;\n",
              "        element.appendChild(docLink);\n",
              "      }\n",
              "    </script>\n",
              "  </div>\n",
              "\n",
              "\n",
              "<div id=\"df-22705b5a-6611-4d2f-99f4-e6c53c814701\">\n",
              "  <button class=\"colab-df-quickchart\" onclick=\"quickchart('df-22705b5a-6611-4d2f-99f4-e6c53c814701')\"\n",
              "            title=\"Suggest charts\"\n",
              "            style=\"display:none;\">\n",
              "\n",
              "<svg xmlns=\"http://www.w3.org/2000/svg\" height=\"24px\"viewBox=\"0 0 24 24\"\n",
              "     width=\"24px\">\n",
              "    <g>\n",
              "        <path d=\"M19 3H5c-1.1 0-2 .9-2 2v14c0 1.1.9 2 2 2h14c1.1 0 2-.9 2-2V5c0-1.1-.9-2-2-2zM9 17H7v-7h2v7zm4 0h-2V7h2v10zm4 0h-2v-4h2v4z\"/>\n",
              "    </g>\n",
              "</svg>\n",
              "  </button>\n",
              "\n",
              "<style>\n",
              "  .colab-df-quickchart {\n",
              "      --bg-color: #E8F0FE;\n",
              "      --fill-color: #1967D2;\n",
              "      --hover-bg-color: #E2EBFA;\n",
              "      --hover-fill-color: #174EA6;\n",
              "      --disabled-fill-color: #AAA;\n",
              "      --disabled-bg-color: #DDD;\n",
              "  }\n",
              "\n",
              "  [theme=dark] .colab-df-quickchart {\n",
              "      --bg-color: #3B4455;\n",
              "      --fill-color: #D2E3FC;\n",
              "      --hover-bg-color: #434B5C;\n",
              "      --hover-fill-color: #FFFFFF;\n",
              "      --disabled-bg-color: #3B4455;\n",
              "      --disabled-fill-color: #666;\n",
              "  }\n",
              "\n",
              "  .colab-df-quickchart {\n",
              "    background-color: var(--bg-color);\n",
              "    border: none;\n",
              "    border-radius: 50%;\n",
              "    cursor: pointer;\n",
              "    display: none;\n",
              "    fill: var(--fill-color);\n",
              "    height: 32px;\n",
              "    padding: 0;\n",
              "    width: 32px;\n",
              "  }\n",
              "\n",
              "  .colab-df-quickchart:hover {\n",
              "    background-color: var(--hover-bg-color);\n",
              "    box-shadow: 0 1px 2px rgba(60, 64, 67, 0.3), 0 1px 3px 1px rgba(60, 64, 67, 0.15);\n",
              "    fill: var(--button-hover-fill-color);\n",
              "  }\n",
              "\n",
              "  .colab-df-quickchart-complete:disabled,\n",
              "  .colab-df-quickchart-complete:disabled:hover {\n",
              "    background-color: var(--disabled-bg-color);\n",
              "    fill: var(--disabled-fill-color);\n",
              "    box-shadow: none;\n",
              "  }\n",
              "\n",
              "  .colab-df-spinner {\n",
              "    border: 2px solid var(--fill-color);\n",
              "    border-color: transparent;\n",
              "    border-bottom-color: var(--fill-color);\n",
              "    animation:\n",
              "      spin 1s steps(1) infinite;\n",
              "  }\n",
              "\n",
              "  @keyframes spin {\n",
              "    0% {\n",
              "      border-color: transparent;\n",
              "      border-bottom-color: var(--fill-color);\n",
              "      border-left-color: var(--fill-color);\n",
              "    }\n",
              "    20% {\n",
              "      border-color: transparent;\n",
              "      border-left-color: var(--fill-color);\n",
              "      border-top-color: var(--fill-color);\n",
              "    }\n",
              "    30% {\n",
              "      border-color: transparent;\n",
              "      border-left-color: var(--fill-color);\n",
              "      border-top-color: var(--fill-color);\n",
              "      border-right-color: var(--fill-color);\n",
              "    }\n",
              "    40% {\n",
              "      border-color: transparent;\n",
              "      border-right-color: var(--fill-color);\n",
              "      border-top-color: var(--fill-color);\n",
              "    }\n",
              "    60% {\n",
              "      border-color: transparent;\n",
              "      border-right-color: var(--fill-color);\n",
              "    }\n",
              "    80% {\n",
              "      border-color: transparent;\n",
              "      border-right-color: var(--fill-color);\n",
              "      border-bottom-color: var(--fill-color);\n",
              "    }\n",
              "    90% {\n",
              "      border-color: transparent;\n",
              "      border-bottom-color: var(--fill-color);\n",
              "    }\n",
              "  }\n",
              "</style>\n",
              "\n",
              "  <script>\n",
              "    async function quickchart(key) {\n",
              "      const quickchartButtonEl =\n",
              "        document.querySelector('#' + key + ' button');\n",
              "      quickchartButtonEl.disabled = true;  // To prevent multiple clicks.\n",
              "      quickchartButtonEl.classList.add('colab-df-spinner');\n",
              "      try {\n",
              "        const charts = await google.colab.kernel.invokeFunction(\n",
              "            'suggestCharts', [key], {});\n",
              "      } catch (error) {\n",
              "        console.error('Error during call to suggestCharts:', error);\n",
              "      }\n",
              "      quickchartButtonEl.classList.remove('colab-df-spinner');\n",
              "      quickchartButtonEl.classList.add('colab-df-quickchart-complete');\n",
              "    }\n",
              "    (() => {\n",
              "      let quickchartButtonEl =\n",
              "        document.querySelector('#df-22705b5a-6611-4d2f-99f4-e6c53c814701 button');\n",
              "      quickchartButtonEl.style.display =\n",
              "        google.colab.kernel.accessAllowed ? 'block' : 'none';\n",
              "    })();\n",
              "  </script>\n",
              "</div>\n",
              "\n",
              "    </div>\n",
              "  </div>\n"
            ],
            "application/vnd.google.colaboratory.intrinsic+json": {
              "type": "dataframe",
              "variable_name": "df",
              "summary": "{\n  \"name\": \"df\",\n  \"rows\": 1372,\n  \"fields\": [\n    {\n      \"column\": \"variance\",\n      \"properties\": {\n        \"dtype\": \"number\",\n        \"std\": 2.842762586278562,\n        \"min\": -7.0421,\n        \"max\": 6.8248,\n        \"num_unique_values\": 1338,\n        \"samples\": [\n          -2.286,\n          -0.539,\n          0.89512\n        ],\n        \"semantic_type\": \"\",\n        \"description\": \"\"\n      }\n    },\n    {\n      \"column\": \"skewness\",\n      \"properties\": {\n        \"dtype\": \"number\",\n        \"std\": 5.869046743694846,\n        \"min\": -13.7731,\n        \"max\": 12.9516,\n        \"num_unique_values\": 1256,\n        \"samples\": [\n          11.2217,\n          -4.6145,\n          6.1499\n        ],\n        \"semantic_type\": \"\",\n        \"description\": \"\"\n      }\n    },\n    {\n      \"column\": \"curtosis\",\n      \"properties\": {\n        \"dtype\": \"number\",\n        \"std\": 4.310030090106595,\n        \"min\": -5.2861,\n        \"max\": 17.9274,\n        \"num_unique_values\": 1270,\n        \"samples\": [\n          7.8981,\n          9.8208,\n          0.20021\n        ],\n        \"semantic_type\": \"\",\n        \"description\": \"\"\n      }\n    },\n    {\n      \"column\": \"entropy\",\n      \"properties\": {\n        \"dtype\": \"number\",\n        \"std\": 2.1010131373596095,\n        \"min\": -8.5482,\n        \"max\": 2.4495,\n        \"num_unique_values\": 1156,\n        \"samples\": [\n          1.0271,\n          0.90946,\n          -0.026738\n        ],\n        \"semantic_type\": \"\",\n        \"description\": \"\"\n      }\n    },\n    {\n      \"column\": \"forgery\",\n      \"properties\": {\n        \"dtype\": \"number\",\n        \"std\": 0,\n        \"min\": 0,\n        \"max\": 1,\n        \"num_unique_values\": 2,\n        \"samples\": [\n          1,\n          0\n        ],\n        \"semantic_type\": \"\",\n        \"description\": \"\"\n      }\n    }\n  ]\n}"
            }
          },
          "metadata": {},
          "execution_count": 9
        }
      ]
    },
    {
      "cell_type": "markdown",
      "source": [
        "### Statistical and Visual Exploration"
      ],
      "metadata": {
        "id": "HYTANYVkDbyh"
      }
    },
    {
      "cell_type": "code",
      "source": [
        "#You do not need this section for this notebook - you did this in last module's assignment."
      ],
      "metadata": {
        "id": "HCk3bgY8X-PX"
      },
      "execution_count": null,
      "outputs": []
    },
    {
      "cell_type": "markdown",
      "source": [
        "### Splitting Data into Train/Test"
      ],
      "metadata": {
        "id": "FhtpEB4SEzSx"
      }
    },
    {
      "cell_type": "code",
      "source": [
        "# prompt: Create a data frame called X of your inputs that includes all columns except date and forgery.\n",
        "\n",
        "X = df.drop(['forgery'], axis=1)\n",
        "y = df.forgery"
      ],
      "metadata": {
        "id": "xKmYoiW1YB3f"
      },
      "execution_count": 11,
      "outputs": []
    },
    {
      "cell_type": "code",
      "source": [
        "# prompt: Split the data into Train/Test sets.  Use 20% of the data for testing. You should have 4 data frames X_train, X_test, y_train,  and y_test.\n",
        "\n",
        "X_train, X_test, y_train, y_test = train_test_split(X, y, test_size=0.2, random_state=42)"
      ],
      "metadata": {
        "id": "yOiZoUIZYTfS"
      },
      "execution_count": 12,
      "outputs": []
    },
    {
      "cell_type": "markdown",
      "source": [
        "### Building the Pipeline"
      ],
      "metadata": {
        "id": "jPvXk_mdEJdg"
      }
    },
    {
      "cell_type": "code",
      "source": [
        "# prompt: Create a column transformer that will MinMax scale the numerical variables\n",
        "\n",
        "numerical_features = X.select_dtypes(include=['number']).columns\n",
        "categorical_features = X.select_dtypes(include=['object', 'category']).columns\n",
        "\n",
        "# Create a column transformer to scale the numerical features\n",
        "ct = ColumnTransformer([\n",
        "        ('scaler', MinMaxScaler(), numerical_features),\n",
        "    ], remainder='passthrough')"
      ],
      "metadata": {
        "id": "0nyTHI4QYZrX"
      },
      "execution_count": 13,
      "outputs": []
    },
    {
      "cell_type": "code",
      "source": [
        "# prompt: Create a pipeline that will transform the data and then run the DecisionTreeClassification algorithm.\n",
        "\n",
        "# Create a pipeline with the column transformer and the Decision Tree Classifier\n",
        "pipeline = Pipeline([\n",
        "    ('transformer', ct),\n",
        "    ('classifier', DecisionTreeClassifier())\n",
        "])\n",
        "\n",
        "# Fit the pipeline to the training data\n",
        "pipeline.fit(X_train, y_train)\n",
        "\n",
        "# Make predictions on the test data\n",
        "y_pred = pipeline.predict(X_test)"
      ],
      "metadata": {
        "id": "VoK9MqQRYcoX"
      },
      "execution_count": 16,
      "outputs": []
    },
    {
      "cell_type": "markdown",
      "source": [
        "### Executing the Model"
      ],
      "metadata": {
        "id": "8vSidC97Jbx2"
      }
    },
    {
      "cell_type": "code",
      "source": [
        "# prompt: Run the pipeline to fit the DecisionTreeClassification model.\n",
        "\n",
        "# Fit the pipeline to the training data\n",
        "pipeline.fit(X_train, y_train)\n",
        "\n",
        "# Make predictions on the test data\n",
        "y_pred = pipeline.predict(X_test)"
      ],
      "metadata": {
        "id": "hmAi4UPEYsvv"
      },
      "execution_count": 17,
      "outputs": []
    },
    {
      "cell_type": "markdown",
      "source": [
        "### Evaluating Model"
      ],
      "metadata": {
        "id": "iBFx9cbQJCKr"
      }
    },
    {
      "cell_type": "code",
      "source": [
        "# prompt: Call the plot_cm function to generate the confusion matrix.\n",
        "# Calculate the precision, recall, and F1 score. In a markdown comment below your results, interpret your results.\n",
        "\n",
        "plot_cm(y_test, y_pred)\n",
        "\n",
        "precision = precision_score(y_test, y_pred)\n",
        "recall = recall_score(y_test, y_pred)\n",
        "f1 = f1_score(y_test, y_pred)\n",
        "\n",
        "print(f\"Precision: {precision:.2f}\")\n",
        "print(f\"Recall: {recall:.2f}\")\n",
        "print(f\"F1 Score: {f1:.2f}\")\n"
      ],
      "metadata": {
        "colab": {
          "base_uri": "https://localhost:8080/",
          "height": 902
        },
        "id": "TvBQ05s4ZvEK",
        "outputId": "9827f5ff-3cc3-4285-88af-ceea3ef9688e"
      },
      "execution_count": 21,
      "outputs": [
        {
          "output_type": "stream",
          "name": "stdout",
          "text": [
            "Precision: 0.99\n",
            "Recall: 0.94\n",
            "F1 Score: 0.97\n"
          ]
        },
        {
          "output_type": "display_data",
          "data": {
            "text/plain": [
              "<Figure size 1000x1000 with 2 Axes>"
            ],
            "image/png": "[encoded data removed]"
          },
          "metadata": {}
        }
      ]
    },
    {
      "cell_type": "markdown",
      "source": [
        "### Conclusion\n",
        ".99 precision score means that it is 99% correct when identifying forgeries, which means there's a low chance for this model with this sample to identify false positives. The recall of .94 shows that out of all actual forgeries, it managed to identify .94 of them which is good, because in this scenario of identifying bank forgeries, we can tolerate false negatives more than false positives. This model is highly suitable for identifying bank forgeries."
      ],
      "metadata": {
        "id": "X7GOLcxqaJUG"
      }
    },
    {
      "cell_type": "markdown",
      "source": [
        "### Reading the Data"
      ],
      "metadata": {
        "id": "iFllsBeo3Fym"
      }
    },
    {
      "cell_type": "code",
      "source": [
        "df = pd.read_csv('/content/gdrive/MyDrive/Colab Notebooks/CS430/ML4_RH/Steel_industry_data.csv')\n",
        "df.head()"
      ],
      "metadata": {
        "colab": {
          "base_uri": "https://localhost:8080/",
          "height": 313
        },
        "id": "MobnYV0Ca4LG",
        "outputId": "975bd99b-51a9-48b8-d4d6-ca28406955ca"
      },
      "execution_count": 23,
      "outputs": [
        {
          "output_type": "execute_result",
          "data": {
            "text/plain": [
              "               date  Usage_kWh  Lagging_Current_Reactive.Power_kVarh  \\\n",
              "0  01/01/2018 00:15       3.17                                  2.95   \n",
              "1  01/01/2018 00:30       4.00                                  4.46   \n",
              "2  01/01/2018 00:45       3.24                                  3.28   \n",
              "3  01/01/2018 01:00       3.31                                  3.56   \n",
              "4  01/01/2018 01:15       3.82                                  4.50   \n",
              "\n",
              "   Leading_Current_Reactive_Power_kVarh  CO2(tCO2)  \\\n",
              "0                                   0.0        0.0   \n",
              "1                                   0.0        0.0   \n",
              "2                                   0.0        0.0   \n",
              "3                                   0.0        0.0   \n",
              "4                                   0.0        0.0   \n",
              "\n",
              "   Lagging_Current_Power_Factor  Leading_Current_Power_Factor   NSM  \\\n",
              "0                         73.21                         100.0   900   \n",
              "1                         66.77                         100.0  1800   \n",
              "2                         70.28                         100.0  2700   \n",
              "3                         68.09                         100.0  3600   \n",
              "4                         64.72                         100.0  4500   \n",
              "\n",
              "  WeekStatus Day_of_week   Load_Type  \n",
              "0    Weekday      Monday  Light_Load  \n",
              "1    Weekday      Monday  Light_Load  \n",
              "2    Weekday      Monday  Light_Load  \n",
              "3    Weekday      Monday  Light_Load  \n",
              "4    Weekday      Monday  Light_Load  "
            ],
            "text/html": [
              "\n",
              "  <div id=\"df-3eaba6fc-d0fd-4321-ab70-9e640485d674\" class=\"colab-df-container\">\n",
              "    <div>\n",
              "<style scoped>\n",
              "    .dataframe tbody tr th:only-of-type {\n",
              "        vertical-align: middle;\n",
              "    }\n",
              "\n",
              "    .dataframe tbody tr th {\n",
              "        vertical-align: top;\n",
              "    }\n",
              "\n",
              "    .dataframe thead th {\n",
              "        text-align: right;\n",
              "    }\n",
              "</style>\n",
              "<table border=\"1\" class=\"dataframe\">\n",
              "  <thead>\n",
              "    <tr style=\"text-align: right;\">\n",
              "      <th></th>\n",
              "      <th>date</th>\n",
              "      <th>Usage_kWh</th>\n",
              "      <th>Lagging_Current_Reactive.Power_kVarh</th>\n",
              "      <th>Leading_Current_Reactive_Power_kVarh</th>\n",
              "      <th>CO2(tCO2)</th>\n",
              "      <th>Lagging_Current_Power_Factor</th>\n",
              "      <th>Leading_Current_Power_Factor</th>\n",
              "      <th>NSM</th>\n",
              "      <th>WeekStatus</th>\n",
              "      <th>Day_of_week</th>\n",
              "      <th>Load_Type</th>\n",
              "    </tr>\n",
              "  </thead>\n",
              "  <tbody>\n",
              "    <tr>\n",
              "      <th>0</th>\n",
              "      <td>01/01/2018 00:15</td>\n",
              "      <td>3.17</td>\n",
              "      <td>2.95</td>\n",
              "      <td>0.0</td>\n",
              "      <td>0.0</td>\n",
              "      <td>73.21</td>\n",
              "      <td>100.0</td>\n",
              "      <td>900</td>\n",
              "      <td>Weekday</td>\n",
              "      <td>Monday</td>\n",
              "      <td>Light_Load</td>\n",
              "    </tr>\n",
              "    <tr>\n",
              "      <th>1</th>\n",
              "      <td>01/01/2018 00:30</td>\n",
              "      <td>4.00</td>\n",
              "      <td>4.46</td>\n",
              "      <td>0.0</td>\n",
              "      <td>0.0</td>\n",
              "      <td>66.77</td>\n",
              "      <td>100.0</td>\n",
              "      <td>1800</td>\n",
              "      <td>Weekday</td>\n",
              "      <td>Monday</td>\n",
              "      <td>Light_Load</td>\n",
              "    </tr>\n",
              "    <tr>\n",
              "      <th>2</th>\n",
              "      <td>01/01/2018 00:45</td>\n",
              "      <td>3.24</td>\n",
              "      <td>3.28</td>\n",
              "      <td>0.0</td>\n",
              "      <td>0.0</td>\n",
              "      <td>70.28</td>\n",
              "      <td>100.0</td>\n",
              "      <td>2700</td>\n",
              "      <td>Weekday</td>\n",
              "      <td>Monday</td>\n",
              "      <td>Light_Load</td>\n",
              "    </tr>\n",
              "    <tr>\n",
              "      <th>3</th>\n",
              "      <td>01/01/2018 01:00</td>\n",
              "      <td>3.31</td>\n",
              "      <td>3.56</td>\n",
              "      <td>0.0</td>\n",
              "      <td>0.0</td>\n",
              "      <td>68.09</td>\n",
              "      <td>100.0</td>\n",
              "      <td>3600</td>\n",
              "      <td>Weekday</td>\n",
              "      <td>Monday</td>\n",
              "      <td>Light_Load</td>\n",
              "    </tr>\n",
              "    <tr>\n",
              "      <th>4</th>\n",
              "      <td>01/01/2018 01:15</td>\n",
              "      <td>3.82</td>\n",
              "      <td>4.50</td>\n",
              "      <td>0.0</td>\n",
              "      <td>0.0</td>\n",
              "      <td>64.72</td>\n",
              "      <td>100.0</td>\n",
              "      <td>4500</td>\n",
              "      <td>Weekday</td>\n",
              "      <td>Monday</td>\n",
              "      <td>Light_Load</td>\n",
              "    </tr>\n",
              "  </tbody>\n",
              "</table>\n",
              "</div>\n",
              "    <div class=\"colab-df-buttons\">\n",
              "\n",
              "  <div class=\"colab-df-container\">\n",
              "    <button class=\"colab-df-convert\" onclick=\"convertToInteractive('df-3eaba6fc-d0fd-4321-ab70-9e640485d674')\"\n",
              "            title=\"Convert this dataframe to an interactive table.\"\n",
              "            style=\"display:none;\">\n",
              "\n",
              "  <svg xmlns=\"http://www.w3.org/2000/svg\" height=\"24px\" viewBox=\"0 -960 960 960\">\n",
              "    <path d=\"M120-120v-720h720v720H120Zm60-500h600v-160H180v160Zm220 220h160v-160H400v160Zm0 220h160v-160H400v160ZM180-400h160v-160H180v160Zm440 0h160v-160H620v160ZM180-180h160v-160H180v160Zm440 0h160v-160H620v160Z\"/>\n",
              "  </svg>\n",
              "    </button>\n",
              "\n",
              "  <style>\n",
              "    .colab-df-container {\n",
              "      display:flex;\n",
              "      gap: 12px;\n",
              "    }\n",
              "\n",
              "    .colab-df-convert {\n",
              "      background-color: #E8F0FE;\n",
              "      border: none;\n",
              "      border-radius: 50%;\n",
              "      cursor: pointer;\n",
              "      display: none;\n",
              "      fill: #1967D2;\n",
              "      height: 32px;\n",
              "      padding: 0 0 0 0;\n",
              "      width: 32px;\n",
              "    }\n",
              "\n",
              "    .colab-df-convert:hover {\n",
              "      background-color: #E2EBFA;\n",
              "      box-shadow: 0px 1px 2px rgba(60, 64, 67, 0.3), 0px 1px 3px 1px rgba(60, 64, 67, 0.15);\n",
              "      fill: #174EA6;\n",
              "    }\n",
              "\n",
              "    .colab-df-buttons div {\n",
              "      margin-bottom: 4px;\n",
              "    }\n",
              "\n",
              "    [theme=dark] .colab-df-convert {\n",
              "      background-color: #3B4455;\n",
              "      fill: #D2E3FC;\n",
              "    }\n",
              "\n",
              "    [theme=dark] .colab-df-convert:hover {\n",
              "      background-color: #434B5C;\n",
              "      box-shadow: 0px 1px 3px 1px rgba(0, 0, 0, 0.15);\n",
              "      filter: drop-shadow(0px 1px 2px rgba(0, 0, 0, 0.3));\n",
              "      fill: #FFFFFF;\n",
              "    }\n",
              "  </style>\n",
              "\n",
              "    <script>\n",
              "      const buttonEl =\n",
              "        document.querySelector('#df-3eaba6fc-d0fd-4321-ab70-9e640485d674 button.colab-df-convert');\n",
              "      buttonEl.style.display =\n",
              "        google.colab.kernel.accessAllowed ? 'block' : 'none';\n",
              "\n",
              "      async function convertToInteractive(key) {\n",
              "        const element = document.querySelector('#df-3eaba6fc-d0fd-4321-ab70-9e640485d674');\n",
              "        const dataTable =\n",
              "          await google.colab.kernel.invokeFunction('convertToInteractive',\n",
              "                                                    [key], {});\n",
              "        if (!dataTable) return;\n",
              "\n",
              "        const docLinkHtml = 'Like what you see? Visit the ' +\n",
              "          '<a target=\"_blank\" href=https://colab.research.google.com/notebooks/data_table.ipynb>data table notebook</a>'\n",
              "          + ' to learn more about interactive tables.';\n",
              "        element.innerHTML = '';\n",
              "        dataTable['output_type'] = 'display_data';\n",
              "        await google.colab.output.renderOutput(dataTable, element);\n",
              "        const docLink = document.createElement('div');\n",
              "        docLink.innerHTML = docLinkHtml;\n",
              "        element.appendChild(docLink);\n",
              "      }\n",
              "    </script>\n",
              "  </div>\n",
              "\n",
              "\n",
              "<div id=\"df-4a51f79a-0070-473d-a8af-21a893db566f\">\n",
              "  <button class=\"colab-df-quickchart\" onclick=\"quickchart('df-4a51f79a-0070-473d-a8af-21a893db566f')\"\n",
              "            title=\"Suggest charts\"\n",
              "            style=\"display:none;\">\n",
              "\n",
              "<svg xmlns=\"http://www.w3.org/2000/svg\" height=\"24px\"viewBox=\"0 0 24 24\"\n",
              "     width=\"24px\">\n",
              "    <g>\n",
              "        <path d=\"M19 3H5c-1.1 0-2 .9-2 2v14c0 1.1.9 2 2 2h14c1.1 0 2-.9 2-2V5c0-1.1-.9-2-2-2zM9 17H7v-7h2v7zm4 0h-2V7h2v10zm4 0h-2v-4h2v4z\"/>\n",
              "    </g>\n",
              "</svg>\n",
              "  </button>\n",
              "\n",
              "<style>\n",
              "  .colab-df-quickchart {\n",
              "      --bg-color: #E8F0FE;\n",
              "      --fill-color: #1967D2;\n",
              "      --hover-bg-color: #E2EBFA;\n",
              "      --hover-fill-color: #174EA6;\n",
              "      --disabled-fill-color: #AAA;\n",
              "      --disabled-bg-color: #DDD;\n",
              "  }\n",
              "\n",
              "  [theme=dark] .colab-df-quickchart {\n",
              "      --bg-color: #3B4455;\n",
              "      --fill-color: #D2E3FC;\n",
              "      --hover-bg-color: #434B5C;\n",
              "      --hover-fill-color: #FFFFFF;\n",
              "      --disabled-bg-color: #3B4455;\n",
              "      --disabled-fill-color: #666;\n",
              "  }\n",
              "\n",
              "  .colab-df-quickchart {\n",
              "    background-color: var(--bg-color);\n",
              "    border: none;\n",
              "    border-radius: 50%;\n",
              "    cursor: pointer;\n",
              "    display: none;\n",
              "    fill: var(--fill-color);\n",
              "    height: 32px;\n",
              "    padding: 0;\n",
              "    width: 32px;\n",
              "  }\n",
              "\n",
              "  .colab-df-quickchart:hover {\n",
              "    background-color: var(--hover-bg-color);\n",
              "    box-shadow: 0 1px 2px rgba(60, 64, 67, 0.3), 0 1px 3px 1px rgba(60, 64, 67, 0.15);\n",
              "    fill: var(--button-hover-fill-color);\n",
              "  }\n",
              "\n",
              "  .colab-df-quickchart-complete:disabled,\n",
              "  .colab-df-quickchart-complete:disabled:hover {\n",
              "    background-color: var(--disabled-bg-color);\n",
              "    fill: var(--disabled-fill-color);\n",
              "    box-shadow: none;\n",
              "  }\n",
              "\n",
              "  .colab-df-spinner {\n",
              "    border: 2px solid var(--fill-color);\n",
              "    border-color: transparent;\n",
              "    border-bottom-color: var(--fill-color);\n",
              "    animation:\n",
              "      spin 1s steps(1) infinite;\n",
              "  }\n",
              "\n",
              "  @keyframes spin {\n",
              "    0% {\n",
              "      border-color: transparent;\n",
              "      border-bottom-color: var(--fill-color);\n",
              "      border-left-color: var(--fill-color);\n",
              "    }\n",
              "    20% {\n",
              "      border-color: transparent;\n",
              "      border-left-color: var(--fill-color);\n",
              "      border-top-color: var(--fill-color);\n",
              "    }\n",
              "    30% {\n",
              "      border-color: transparent;\n",
              "      border-left-color: var(--fill-color);\n",
              "      border-top-color: var(--fill-color);\n",
              "      border-right-color: var(--fill-color);\n",
              "    }\n",
              "    40% {\n",
              "      border-color: transparent;\n",
              "      border-right-color: var(--fill-color);\n",
              "      border-top-color: var(--fill-color);\n",
              "    }\n",
              "    60% {\n",
              "      border-color: transparent;\n",
              "      border-right-color: var(--fill-color);\n",
              "    }\n",
              "    80% {\n",
              "      border-color: transparent;\n",
              "      border-right-color: var(--fill-color);\n",
              "      border-bottom-color: var(--fill-color);\n",
              "    }\n",
              "    90% {\n",
              "      border-color: transparent;\n",
              "      border-bottom-color: var(--fill-color);\n",
              "    }\n",
              "  }\n",
              "</style>\n",
              "\n",
              "  <script>\n",
              "    async function quickchart(key) {\n",
              "      const quickchartButtonEl =\n",
              "        document.querySelector('#' + key + ' button');\n",
              "      quickchartButtonEl.disabled = true;  // To prevent multiple clicks.\n",
              "      quickchartButtonEl.classList.add('colab-df-spinner');\n",
              "      try {\n",
              "        const charts = await google.colab.kernel.invokeFunction(\n",
              "            'suggestCharts', [key], {});\n",
              "      } catch (error) {\n",
              "        console.error('Error during call to suggestCharts:', error);\n",
              "      }\n",
              "      quickchartButtonEl.classList.remove('colab-df-spinner');\n",
              "      quickchartButtonEl.classList.add('colab-df-quickchart-complete');\n",
              "    }\n",
              "    (() => {\n",
              "      let quickchartButtonEl =\n",
              "        document.querySelector('#df-4a51f79a-0070-473d-a8af-21a893db566f button');\n",
              "      quickchartButtonEl.style.display =\n",
              "        google.colab.kernel.accessAllowed ? 'block' : 'none';\n",
              "    })();\n",
              "  </script>\n",
              "</div>\n",
              "\n",
              "    </div>\n",
              "  </div>\n"
            ],
            "application/vnd.google.colaboratory.intrinsic+json": {
              "type": "dataframe",
              "variable_name": "df",
              "summary": "{\n  \"name\": \"df\",\n  \"rows\": 35040,\n  \"fields\": [\n    {\n      \"column\": \"date\",\n      \"properties\": {\n        \"dtype\": \"string\",\n        \"num_unique_values\": 35040,\n        \"samples\": [\n          \"29/04/2018 07:15\",\n          \"04/10/2018 12:00\",\n          \"26/01/2018 11:30\"\n        ],\n        \"semantic_type\": \"\",\n        \"description\": \"\"\n      }\n    },\n    {\n      \"column\": \"Usage_kWh\",\n      \"properties\": {\n        \"dtype\": \"number\",\n        \"std\": 33.44437970801463,\n        \"min\": 0.0,\n        \"max\": 157.18,\n        \"num_unique_values\": 3343,\n        \"samples\": [\n          12.02,\n          28.51,\n          77.18\n        ],\n        \"semantic_type\": \"\",\n        \"description\": \"\"\n      }\n    },\n    {\n      \"column\": \"Lagging_Current_Reactive.Power_kVarh\",\n      \"properties\": {\n        \"dtype\": \"number\",\n        \"std\": 16.305999973081395,\n        \"min\": 0.0,\n        \"max\": 96.91,\n        \"num_unique_values\": 1954,\n        \"samples\": [\n          20.88,\n          69.84,\n          7.02\n        ],\n        \"semantic_type\": \"\",\n        \"description\": \"\"\n      }\n    },\n    {\n      \"column\": \"Leading_Current_Reactive_Power_kVarh\",\n      \"properties\": {\n        \"dtype\": \"number\",\n        \"std\": 7.424462753105592,\n        \"min\": 0.0,\n        \"max\": 27.76,\n        \"num_unique_values\": 768,\n        \"samples\": [\n          21.06,\n          23.04,\n          13.61\n        ],\n        \"semantic_type\": \"\",\n        \"description\": \"\"\n      }\n    },\n    {\n      \"column\": \"CO2(tCO2)\",\n      \"properties\": {\n        \"dtype\": \"number\",\n        \"std\": 0.01615082153443048,\n        \"min\": 0.0,\n        \"max\": 0.07,\n        \"num_unique_values\": 8,\n        \"samples\": [\n          0.02,\n          0.04,\n          0.0\n        ],\n        \"semantic_type\": \"\",\n        \"description\": \"\"\n      }\n    },\n    {\n      \"column\": \"Lagging_Current_Power_Factor\",\n      \"properties\": {\n        \"dtype\": \"number\",\n        \"std\": 18.92132226781833,\n        \"min\": 0.0,\n        \"max\": 100.0,\n        \"num_unique_values\": 5079,\n        \"samples\": [\n          77.48,\n          46.28,\n          100.0\n        ],\n        \"semantic_type\": \"\",\n        \"description\": \"\"\n      }\n    },\n    {\n      \"column\": \"Leading_Current_Power_Factor\",\n      \"properties\": {\n        \"dtype\": \"number\",\n        \"std\": 30.456535157583907,\n        \"min\": 0.0,\n        \"max\": 100.0,\n        \"num_unique_values\": 3366,\n        \"samples\": [\n          97.26,\n          54.38,\n          19.51\n        ],\n        \"semantic_type\": \"\",\n        \"description\": \"\"\n      }\n    },\n    {\n      \"column\": \"NSM\",\n      \"properties\": {\n        \"dtype\": \"number\",\n        \"std\": 24940,\n        \"min\": 0,\n        \"max\": 85500,\n        \"num_unique_values\": 96,\n        \"samples\": [\n          72900,\n          70200,\n          66600\n        ],\n        \"semantic_type\": \"\",\n        \"description\": \"\"\n      }\n    },\n    {\n      \"column\": \"WeekStatus\",\n      \"properties\": {\n        \"dtype\": \"category\",\n        \"num_unique_values\": 2,\n        \"samples\": [\n          \"Weekend\",\n          \"Weekday\"\n        ],\n        \"semantic_type\": \"\",\n        \"description\": \"\"\n      }\n    },\n    {\n      \"column\": \"Day_of_week\",\n      \"properties\": {\n        \"dtype\": \"category\",\n        \"num_unique_values\": 7,\n        \"samples\": [\n          \"Monday\",\n          \"Tuesday\"\n        ],\n        \"semantic_type\": \"\",\n        \"description\": \"\"\n      }\n    },\n    {\n      \"column\": \"Load_Type\",\n      \"properties\": {\n        \"dtype\": \"category\",\n        \"num_unique_values\": 3,\n        \"samples\": [\n          \"Light_Load\",\n          \"Medium_Load\"\n        ],\n        \"semantic_type\": \"\",\n        \"description\": \"\"\n      }\n    }\n  ]\n}"
            }
          },
          "metadata": {},
          "execution_count": 23
        }
      ]
    },
    {
      "cell_type": "code",
      "source": [
        "# prompt: name columns as usage_kwh,lag_react_pwr_kvarh,lead_react_pwr_kvarh,lag_current_pwr,lead_current_pwr,nsm,week_status,day_of_week,load_type\n",
        "\n",
        "df.columns = ['date','usage_kwh','lag_react_pwr_kvarh','lead_react_pwr_kvarh','CO2(tCO2)','lag_current_pwr','lead_current_pwr','nsm','week_status','day_of_week','load_type']"
      ],
      "metadata": {
        "id": "qiwRQcb1bHCe"
      },
      "execution_count": 24,
      "outputs": []
    },
    {
      "cell_type": "code",
      "source": [
        "df.columns"
      ],
      "metadata": {
        "colab": {
          "base_uri": "https://localhost:8080/"
        },
        "id": "gZQR3PWcbJSW",
        "outputId": "5bec4889-18e6-45dc-f89b-2c491995eee9"
      },
      "execution_count": 25,
      "outputs": [
        {
          "output_type": "execute_result",
          "data": {
            "text/plain": [
              "Index(['date', 'usage_kwh', 'lag_react_pwr_kvarh', 'lead_react_pwr_kvarh',\n",
              "       'CO2(tCO2)', 'lag_current_pwr', 'lead_current_pwr', 'nsm',\n",
              "       'week_status', 'day_of_week', 'load_type'],\n",
              "      dtype='object')"
            ]
          },
          "metadata": {},
          "execution_count": 25
        }
      ]
    },
    {
      "cell_type": "markdown",
      "source": [
        "### Splitting Data into Train/Test"
      ],
      "metadata": {
        "id": "loHENV0V-Okn"
      }
    },
    {
      "cell_type": "code",
      "source": [
        "# Create a data frame called X of your inputs that includes all columns except date and usage_kwh.\n",
        "# Create a data frame called y of your output that includes only usage_kwh. This will be your target variable that you are trying to predict.\n",
        "# Split the data into Train/Test sets.  Use 20% of the data for testing. You should have 4 data frames X_train, X_test, y_train,  and y_test.\n",
        "\n",
        "X = df.drop(['date', 'usage_kwh'], axis=1)\n",
        "y = df['usage_kwh']\n",
        "\n",
        "X_train, X_test, y_train, y_test = train_test_split(X, y, test_size=0.2, random_state=42)"
      ],
      "metadata": {
        "id": "xwEPTDOfbTUG"
      },
      "execution_count": 26,
      "outputs": []
    },
    {
      "cell_type": "markdown",
      "source": [
        "### Building the Pipeline"
      ],
      "metadata": {
        "id": "fwGIAvl3-Ok-"
      }
    },
    {
      "cell_type": "code",
      "source": [
        "# prompt: Create a column transformer that will OneHotEncode the categorical variables and MinMax scale the numerical variables (not the output).\n",
        "# Create a pipeline that will transform the data and then run the DecisionTreeRegression algorithm.\n",
        "\n",
        "numerical_features = X.select_dtypes(include=['number']).columns\n",
        "categorical_features = X.select_dtypes(include=['object', 'category']).columns\n",
        "\n",
        "# Create a column transformer to scale numerical features and one-hot encode categorical features\n",
        "ct = ColumnTransformer([\n",
        "        ('scaler', MinMaxScaler(), numerical_features),\n",
        "        ('encoder', OneHotEncoder(handle_unknown='ignore'), categorical_features)\n",
        "    ], remainder='passthrough')\n",
        "\n",
        "# Create a pipeline with the column transformer and the Decision Tree Regressor\n",
        "from sklearn.tree import DecisionTreeRegressor\n",
        "pipeline = Pipeline([\n",
        "    ('transformer', ct),\n",
        "    ('regressor', DecisionTreeRegressor())\n",
        "])\n",
        "\n",
        "# Fit the pipeline to the training data\n",
        "pipeline.fit(X_train, y_train)\n",
        "\n",
        "# Make predictions on the test data\n",
        "y_pred = pipeline.predict(X_test)\n",
        "\n",
        "# Evaluate the model (example using R-squared)\n",
        "r2 = r2_score(y_test, y_pred)\n",
        "print(f\"R-squared: {r2:.2f}\")\n",
        "\n",
        "# You can also evaluate using other regression metrics like MSE or MAE.\n",
        "mse = mean_squared_error(y_test, y_pred)\n",
        "print(f\"Mean Squared Error: {mse:.2f}\")"
      ],
      "metadata": {
        "colab": {
          "base_uri": "https://localhost:8080/"
        },
        "id": "Bhvqbroobaqm",
        "outputId": "976c364d-b724-4357-a59c-a1d972ecd743"
      },
      "execution_count": 27,
      "outputs": [
        {
          "output_type": "stream",
          "name": "stdout",
          "text": [
            "R-squared: 1.00\n",
            "Mean Squared Error: 2.00\n"
          ]
        }
      ]
    },
    {
      "cell_type": "markdown",
      "source": [
        "### Executing the Model"
      ],
      "metadata": {
        "id": "ivVjQ7Jm-Ok_"
      }
    },
    {
      "cell_type": "code",
      "source": [
        "# prompt: Run the pipeline to fit the DecisionTreeRegression.\n",
        "\n",
        "# Fit the pipeline to the training data\n",
        "pipeline.fit(X_train, y_train)\n",
        "\n",
        "# Make predictions on the test data\n",
        "y_pred = pipeline.predict(X_test)\n",
        "\n",
        "# Evaluate the model (example using R-squared)\n",
        "r2 = r2_score(y_test, y_pred)\n",
        "print(f\"R-squared: {r2:.2f}\")\n",
        "\n",
        "# You can also evaluate using other regression metrics like MSE or MAE.\n",
        "mse = mean_squared_error(y_test, y_pred)\n",
        "print(f\"Mean Squared Error: {mse:.2f}\")"
      ],
      "metadata": {
        "colab": {
          "base_uri": "https://localhost:8080/"
        },
        "id": "NhMItRXwbgNG",
        "outputId": "afa91da7-495d-4ac5-83bf-06f0a8a5a174"
      },
      "execution_count": 28,
      "outputs": [
        {
          "output_type": "stream",
          "name": "stdout",
          "text": [
            "R-squared: 1.00\n",
            "Mean Squared Error: 2.18\n"
          ]
        }
      ]
    },
    {
      "cell_type": "markdown",
      "source": [
        "### Evaluating Model"
      ],
      "metadata": {
        "id": "SMLuruS6-OlA"
      }
    },
    {
      "cell_type": "code",
      "source": [
        "# prompt: Run the pipeline to predict y values from the test data set and save them in a variable called y_pred.\n",
        "# Calculate the root mean squared error for both train and test.\n",
        "\n",
        "# Make predictions on the training data\n",
        "y_train_pred = pipeline.predict(X_train)\n",
        "\n",
        "# Calculate RMSE for training data\n",
        "rmse_train = mean_squared_error(y_train, y_train_pred, squared=False)\n",
        "print(f\"RMSE for training data: {rmse_train:.2f}\")\n",
        "\n",
        "# Calculate RMSE for testing data\n",
        "rmse_test = mean_squared_error(y_test, y_pred, squared=False)\n",
        "print(f\"RMSE for testing data: {rmse_test:.2f}\")"
      ],
      "metadata": {
        "colab": {
          "base_uri": "https://localhost:8080/"
        },
        "id": "ei0IStb3bkb9",
        "outputId": "302daff6-da72-489e-88fc-0033732784c3"
      },
      "execution_count": 31,
      "outputs": [
        {
          "output_type": "stream",
          "name": "stdout",
          "text": [
            "RMSE for training data: 0.00\n",
            "RMSE for testing data: 1.48\n"
          ]
        },
        {
          "output_type": "stream",
          "name": "stderr",
          "text": [
            "/usr/local/lib/python3.10/dist-packages/sklearn/metrics/_regression.py:492: FutureWarning: 'squared' is deprecated in version 1.4 and will be removed in 1.6. To calculate the root mean squared error, use the function'root_mean_squared_error'.\n",
            "  warnings.warn(\n",
            "/usr/local/lib/python3.10/dist-packages/sklearn/metrics/_regression.py:492: FutureWarning: 'squared' is deprecated in version 1.4 and will be removed in 1.6. To calculate the root mean squared error, use the function'root_mean_squared_error'.\n",
            "  warnings.warn(\n"
          ]
        }
      ]
    },
    {
      "cell_type": "markdown",
      "source": [
        "RMSE for training data: 0.00 suggests that my model fits the training data perfectly, which is a little too good to be true. This probably means that the model is being overfitted to the sample and not necessarily applicable to other situations.\n",
        "\n",
        "RMSE for testing data: 1.48 shows the model's performance on unseen data, which is pretty high. there's probably some deviation between the predicted and actual values, which means the residuals are pretty high in general."
      ],
      "metadata": {
        "id": "wMPotBZGb3gl"
      }
    },
    {
      "cell_type": "markdown",
      "source": [
        "### Conclusion\n",
        "the R-squared value of 1.00 further confirms what we got from the RMSE for training data: 0.00, which is that the model is overfitted to the sample data. the Mean Squared Error: 2.18 further confirms what we got from the RMSE for testing data: 1.48, which is that the model has some errors in predicting kwh usage with new data. This means that the model would benefit from further tuning to improve the model's generalization."
      ],
      "metadata": {
        "id": "TaNdOL7rk8q8"
      }
    }
  ]
}